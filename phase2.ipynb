{
 "cells": [
  {
   "cell_type": "markdown",
   "id": "606f77bc",
   "metadata": {},
   "source": [
    "## Numpy Array Operation"
   ]
  },
  {
   "cell_type": "code",
   "execution_count": 1,
   "id": "042e05a4",
   "metadata": {},
   "outputs": [],
   "source": [
    "import numpy as np"
   ]
  },
  {
   "cell_type": "code",
   "execution_count": 4,
   "id": "dfc0b137",
   "metadata": {},
   "outputs": [
    {
     "name": "stdout",
     "output_type": "stream",
     "text": [
      "Basic Slicing [2 3 4]\n",
      "Slicing with step [1 3 5]\n",
      "Slicing with negative indices [4 5 6]\n"
     ]
    }
   ],
   "source": [
    "arr = np.array([1,2,3,4,5,6])\n",
    "print(\"Basic Slicing\", arr[1:4])  # Slicing from index 1 to 3\n",
    "print(\"Slicing with step\", arr[0:6:2])  # Slicing with a step of 2\n",
    "print(\"Slicing with negative indices\", arr[-3:])  # Slicing from the third last element to the end"
   ]
  },
  {
   "cell_type": "code",
   "execution_count": null,
   "id": "802ddb39",
   "metadata": {},
   "outputs": [],
   "source": [
    "arr_2d = np.array([[1,2,3,4],\n",
    "                   [5,6,7,8],\n",
    "                   [9,10,11,12]])\n",
    "print(\"Specific Element\", arr_2d[1,2]) # Accessing element at row 1, column 2\n",
    "print(\"entire Row\", arr_2d[1,:]) # Accessing the entire second row\n",
    "print(\"entire Column\", arr_2d[:,2]) # Accessing the entire third column\n",
    "print(\"Sub-array Slicing\", arr_2d[0:2, 1:3])  # Slicing a sub-array from rows 0 to 1 and columns 1 to 2\n",
    "print(\"Slicing with step in 2D\", arr_2d[::2, ::2])  # Slicing every second row and column\n",
    "print(\"Negative Indexing in 2D\", arr_2d[-1, -1])  # Accessing the last element in the last row\n",
    "print(\"Negative Row Slicing\", arr_2d[-2:, :])  # Slicing the last two rows\n",
    "print(\"Negative Column Slicing\", arr_2d[:, -2:])  # Slicing the last two columns"
   ]
  },
  {
   "cell_type": "markdown",
   "id": "c348294f",
   "metadata": {},
   "source": [
    "## Sorting \n"
   ]
  },
  {
   "cell_type": "code",
   "execution_count": null,
   "id": "86fc11d9",
   "metadata": {},
   "outputs": [],
   "source": [
    "unsorted = np.array([3,4,3,4,5])\n",
    "print(\"Sorted Array\", np.sort(unsorted))  # Sorting the array\n",
    "\n",
    "arr_2d_unsorted = np.array([[3,4,3,4],\n",
    "                            [2,3,4,5]])\n",
    "print(\"Sorted 2D Array by Column\", np.sort(arr_2d_unsorted, axis=0))  # Sorting the 2D array along the first axis (columns)\n",
    "print(\"Sorted 2D Array by Row\", np.sort(arr_2d_unsorted, axis=1))  # Sorting the 2D array along the second axis (rows)"
   ]
  },
  {
   "cell_type": "markdown",
   "id": "a40262f3",
   "metadata": {},
   "source": [
    "## Filter\n"
   ]
  },
  {
   "cell_type": "code",
   "execution_count": null,
   "id": "bed3ca95",
   "metadata": {},
   "outputs": [],
   "source": [
    "numbers = np.array([1,2,3,4,5])\n",
    "even_numbers = numbers[numbers % 2 == 0]  # Filtering even numbers\n",
    "print(\"Filtered Even Numbers\", even_numbers)  # Displaying the filtered even numbers"
   ]
  },
  {
   "cell_type": "markdown",
   "id": "000ae381",
   "metadata": {},
   "source": [
    "## Filter with mask"
   ]
  },
  {
   "cell_type": "code",
   "execution_count": null,
   "id": "268ce6e1",
   "metadata": {},
   "outputs": [],
   "source": [
    "numbers = np.array([1 , 2 ,3 ,4 ,5 ,6,7,8,9,10])\n",
    "mask = numbers > 5  # mask is expression which evaluate value\n",
    "print(\"Numbers greater than 5\", numbers[mask])  # Displaying the filtered numbers"
   ]
  },
  {
   "cell_type": "markdown",
   "id": "b60f18fd",
   "metadata": {},
   "source": [
    "## Fancy indexing vs np.where()"
   ]
  },
  {
   "cell_type": "code",
   "execution_count": null,
   "id": "1574760a",
   "metadata": {},
   "outputs": [
    {
     "name": "stdout",
     "output_type": "stream",
     "text": [
      "[1 2 3 3]\n",
      "np where result (array([5, 6, 7, 8, 9]),)\n",
      "[ 1  2  3  4  5 12 14 16 18 20]\n",
      "['false' 'false' 'false' 'false' 'false' 'true' 'true' 'true' 'true'\n",
      " 'true']\n"
     ]
    }
   ],
   "source": [
    "indices = [0,1,2,2] # Indices to access specific elements\n",
    "print(numbers[indices])\n",
    "\n",
    "\n",
    "where_indices = np.where(numbers > 5)  # Getting indices where condition is true\n",
    "print(\"np where result\", where_indices)  # Displaying the indices\n",
    "\n",
    "\n",
    "\n",
    "condition = np.where(numbers > 5 , numbers * 2 , numbers)\n",
    "# Applying a condition to modify elements based on a condition\n",
    "print(condition)\n",
    "\n",
    "condition = np.where(numbers > 5 , \"true\", \"false\")\n",
    "# Applying a condition to modify elements based on a condition, where modify existing values\n",
    "print(condition)\n"
   ]
  },
  {
   "cell_type": "markdown",
   "id": "5f1d0073",
   "metadata": {},
   "source": [
    "## Adding and Removing Data"
   ]
  },
  {
   "cell_type": "code",
   "execution_count": null,
   "id": "b67a4090",
   "metadata": {},
   "outputs": [],
   "source": [
    "arr1 = np.array([2,3,4,4])\n",
    "arr2 = np.array([1, 2, 3])\n",
    "\n",
    "combined = np.concatenate((arr1, arr2))  # Concatenating two arrays\n",
    "print(combined)\n"
   ]
  },
  {
   "cell_type": "code",
   "execution_count": null,
   "id": "37da2e40",
   "metadata": {},
   "outputs": [
    {
     "name": "stdout",
     "output_type": "stream",
     "text": [
      "[1 2 4 5]\n"
     ]
    }
   ],
   "source": [
    "arr = np.array([1 ,2 ,3 , 4 ,5])\n",
    "deleted = np.delete(arr, 2 ) # Deleting an element at index 2\n",
    "print(deleted)"
   ]
  },
  {
   "cell_type": "markdown",
   "id": "23c8cf66",
   "metadata": {},
   "source": [
    "## Array Compatibility"
   ]
  },
  {
   "cell_type": "code",
   "execution_count": null,
   "id": "9ce94c38",
   "metadata": {},
   "outputs": [],
   "source": [
    "a = np.array([1 , 2, 3])\n",
    "b = np.array([4 , 5, 6 ])\n",
    "c = np.array([7 , 8,  9])\n",
    "print(\"Compatibility : \" , a.shape == b.shape)"
   ]
  },
  {
   "cell_type": "code",
   "execution_count": null,
   "id": "63758611",
   "metadata": {},
   "outputs": [],
   "source": [
    "original = np.array([[1, 2, 3],[3,4,5]])\n",
    "new_row = np.array([[5 ,6]])\n",
    "with_new_row = np.vstack((original , new_row)) # vertical stack add new row to the original array\n",
    "print(with_new_row)\n",
    "\n",
    "\n",
    "\n",
    "new_col = np.array([[7] , [8]])\n",
    "with_new_col = np.hstack((original , new_col))# horizontal stack add new column to the original array\n",
    "print(with_new_col)"
   ]
  }
 ],
 "metadata": {
  "kernelspec": {
   "display_name": "venv",
   "language": "python",
   "name": "python3"
  },
  "language_info": {
   "codemirror_mode": {
    "name": "ipython",
    "version": 3
   },
   "file_extension": ".py",
   "mimetype": "text/x-python",
   "name": "python",
   "nbconvert_exporter": "python",
   "pygments_lexer": "ipython3",
   "version": "3.13.3"
  }
 },
 "nbformat": 4,
 "nbformat_minor": 5
}
