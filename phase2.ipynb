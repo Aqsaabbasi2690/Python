{
 "cells": [
  {
   "cell_type": "markdown",
   "id": "606f77bc",
   "metadata": {},
   "source": [
    "## Numpy Array Operation"
   ]
  },
  {
   "cell_type": "code",
   "execution_count": 1,
   "id": "042e05a4",
   "metadata": {},
   "outputs": [],
   "source": [
    "import numpy as np"
   ]
  },
  {
   "cell_type": "code",
   "execution_count": 4,
   "id": "dfc0b137",
   "metadata": {},
   "outputs": [
    {
     "name": "stdout",
     "output_type": "stream",
     "text": [
      "Basic Slicing [2 3 4]\n",
      "Slicing with step [1 3 5]\n",
      "Slicing with negative indices [4 5 6]\n"
     ]
    }
   ],
   "source": [
    "arr = np.array([1,2,3,4,5,6])\n",
    "print(\"Basic Slicing\", arr[1:4])  # Slicing from index 1 to 3\n",
    "print(\"Slicing with step\", arr[0:6:2])  # Slicing with a step of 2\n",
    "print(\"Slicing with negative indices\", arr[-3:])  # Slicing from the third last element to the end"
   ]
  },
  {
   "cell_type": "code",
   "execution_count": null,
   "id": "802ddb39",
   "metadata": {},
   "outputs": [],
   "source": [
    "arr_2d = np.array([[1,2,3,4],\n",
    "                   [2,3,4,5],\n",
    "                   [2,3,2,3]])\n",
    "print(\"Specific Element\", arr_2d[1,2]) # Accessing element at row 1, column 2\n",
    "print(\"entire Row\", arr_2d[1,:]) # Accessing the entire second row\n",
    "print(\"entire Column\", arr_2d[:,2]) # Accessing the entire third column\n",
    "print(\"Row Slicing\", arr_2d[1,:])  # Slicing the entire second row\n",
    "print(\"Column Slicing\", arr_2d[:,2])  # Slicing the entire third column\n",
    "print(\"Sub-array Slicing\", arr_2d[0:2, 1:3])  # Slicing a sub-array from rows 0 to 1 and columns 1 to 2\n",
    "print(\"Slicing with step in 2D\", arr_2d[::2, ::2])  # Slicing every second row and column\n",
    "print(\"Negative Indexing in 2D\", arr_2d[-1, -1])  # Accessing the last element in the last row\n",
    "print(\"Negative Row Slicing\", arr_2d[-2:, :])  # Slicing the last two rows\n",
    "print(\"Negative Column Slicing\", arr_2d[:, -2:])  # Slicing the last two columns\n"
   ]
  }
 ],
 "metadata": {
  "kernelspec": {
   "display_name": "venv",
   "language": "python",
   "name": "python3"
  },
  "language_info": {
   "codemirror_mode": {
    "name": "ipython",
    "version": 3
   },
   "file_extension": ".py",
   "mimetype": "text/x-python",
   "name": "python",
   "nbconvert_exporter": "python",
   "pygments_lexer": "ipython3",
   "version": "3.13.3"
  }
 },
 "nbformat": 4,
 "nbformat_minor": 5
}
