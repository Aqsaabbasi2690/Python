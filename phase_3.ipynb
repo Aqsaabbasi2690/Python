{
 "cells": [
  {
   "cell_type": "code",
   "execution_count": null,
   "id": "69b3d68a",
   "metadata": {},
   "outputs": [],
   "source": [
    "# Make sure to run this entire script from the beginning\n",
    "import numpy as np\n"
   ]
  },
  {
   "cell_type": "code",
   "execution_count": 3,
   "id": "bc4bd67b",
   "metadata": {},
   "outputs": [
    {
     "name": "stdout",
     "output_type": "stream",
     "text": [
      "NumPy version: 2.3.0\n"
     ]
    }
   ],
   "source": [
    "\n",
    "# Verify numpy is imported correctly\n",
    "print(\"NumPy version:\", np.__version__)"
   ]
  },
  {
   "cell_type": "code",
   "execution_count": null,
   "id": "d34e6ae8",
   "metadata": {},
   "outputs": [
    {
     "name": "stdout",
     "output_type": "stream",
     "text": [
      "===== Data Analysis =====\n",
      "\n",
      " Slicing:  [[220000 250000]\n",
      " [160000 190000]\n",
      " [260000 300000]\n",
      " [240000 270000]\n",
      " [205000 230000]]\n"
     ]
    }
   ],
   "source": [
    "# Data structure: [restaurant_id, 2021, 2022, 2023, 2024]\n",
    "sales_data = np.array([\n",
    "    [1, 150000, 180000, 220000, 250000],  # Paradise Biryani\n",
    "    [2, 120000, 140000, 160000, 190000],  # Beijing Bites\n",
    "    [3, 200000, 230000, 260000, 300000],  # Pizza Hub\n",
    "    [4, 180000, 210000, 240000, 270000],  # Burger Point\n",
    "    [5, 160000, 185000, 205000, 230000]   # Chai Point\n",
    "])\n",
    "\n",
    "print(\"===== Data Analysis =====\")\n",
    "# print(\"\\n Sales data Shape: \", sales_data.shape) #how many rows, column\n",
    "# print(\"\\n Sample data for 1st 3 Rows: \", sales_data[:3])\n",
    "# print(\"\\n Slicing: \", sales_data[:, 3:]) # coolon means all rows, 2 means 2 onward colums"
   ]
  },
  {
   "cell_type": "code",
   "execution_count": 18,
   "id": "511cb318",
   "metadata": {},
   "outputs": [
    {
     "name": "stdout",
     "output_type": "stream",
     "text": [
      "\n",
      "===== Additional Analysis =====\n",
      "2024 Sales: [250000 190000 300000 270000 230000]\n",
      "Total sales across all years for each restaurant:\n",
      "[800000 610000 990000 900000 780000]\n"
     ]
    }
   ],
   "source": [
    "# Data structure: [restaurant_id, 2021, 2022, 2023, 2024]\n",
    "sales_data = np.array([\n",
    "    [1, 150000, 180000, 220000, 250000],  # Paradise Biryani\n",
    "    [2, 120000, 140000, 160000, 190000],  # Beijing Bites\n",
    "    [3, 200000, 230000, 260000, 300000],  # Pizza Hub\n",
    "    [4, 180000, 210000, 240000, 270000],  # Burger Point\n",
    "    [5, 160000, 185000, 205000, 230000]   # Chai Point\n",
    "])\n",
    "\n",
    "# Additional analysis\n",
    "print(\"\\n===== Additional Analysis =====\")\n",
    "# print(\"Restaurant IDs:\", sales_data[:, 0])\n",
    "print(\"2024 Sales:\", sales_data[:, -1]) # with comma means all columns, without comma means last row remove\n",
    "print(\"Total sales across all years for each restaurant:\")\n",
    "yearly_totals = sales_data[:, 1:].sum(axis=1)  #(rows) left to right add\n",
    "print(yearly_totals)"
   ]
  },
  {
   "cell_type": "code",
   "execution_count": null,
   "id": "4d55d194",
   "metadata": {},
   "outputs": [
    {
     "name": "stdout",
     "output_type": "stream",
     "text": [
      "\n",
      "===== Growth Analysis =====\n",
      "Restaurant 1: 66.7% growth from 2021 to 2024\n",
      "Restaurant 2: 58.3% growth from 2021 to 2024\n",
      "Restaurant 3: 50.0% growth from 2021 to 2024\n",
      "Restaurant 4: 50.0% growth from 2021 to 2024\n",
      "Restaurant 5: 43.8% growth from 2021 to 2024\n"
     ]
    }
   ],
   "source": [
    "\n",
    "# Data structure: [restaurant_id, 2021, 2022, 2023, 2024]\n",
    "sales_data = np.array([\n",
    "    [1, 150000, 180000, 220000, 250000],  # Paradise Biryani\n",
    "    [2, 120000, 140000, 160000, 190000],  # Beijing Bites\n",
    "    [3, 200000, 230000, 260000, 300000],  # Pizza Hub\n",
    "    [4, 180000, 210000, 240000, 270000],  # Burger Point\n",
    "    [5, 160000, 185000, 205000, 230000]   # Chai Point\n",
    "])\n",
    "\n",
    "# # Calculate year-over-year growth\n",
    "print(\"\\n===== Growth Analysis =====\")\n",
    "for i in range(len(sales_data)):\n",
    "    restaurant_id = int(sales_data[i, 0])\n",
    "    sales_2021 = sales_data[i, 1]\n",
    "    sales_2024 = sales_data[i, 4]\n",
    "    growth = ((sales_2024 - sales_2021) / sales_2021) * 100\n",
    "    print(f\"Restaurant {restaurant_id}: {growth:.1f}% growth from 2021 to 2024\")"
   ]
  },
  {
   "cell_type": "code",
   "execution_count": null,
   "id": "eb92a0ce",
   "metadata": {},
   "outputs": [
    {
     "name": "stdout",
     "output_type": "stream",
     "text": [
      "[     15  810000  945000 1085000 1240000]\n",
      "[800000 610000 990000 900000 780000]\n"
     ]
    }
   ],
   "source": [
    "# Data structure: [restaurant_id, 2021, 2022, 2023, 2024]\n",
    "sales_data = np.array([\n",
    "    [1, 150000, 180000, 220000, 250000],  # Paradise Biryani\n",
    "    [2, 120000, 140000, 160000, 190000],  # Beijing Bites\n",
    "    [3, 200000, 230000, 260000, 300000],  # Pizza Hub\n",
    "    [4, 180000, 210000, 240000, 270000],  # Burger Point\n",
    "    [5, 160000, 185000, 205000, 230000]   # Chai Point\n",
    "])\n",
    "#total sales per year\n",
    "print(np.sum(sales_data, axis=0)) #column\n",
    "yearly_total = np.sum(sales_data[:,1:], axis=0) # axis 0 for columns means top to bottom\n",
    "print(yearly_total)"
   ]
  },
  {
   "cell_type": "code",
   "execution_count": null,
   "id": "93d02935",
   "metadata": {},
   "outputs": [
    {
     "name": "stdout",
     "output_type": "stream",
     "text": [
      "\n",
      " Minimum sales per restaurant:  [150000 120000 200000 180000 160000]\n"
     ]
    }
   ],
   "source": [
    "# Data structure: [restaurant_id, 2021, 2022, 2023, 2024]\n",
    "sales_data = np.array([\n",
    "    [1, 150000, 180000, 220000, 250000],  # Paradise Biryani\n",
    "    [2, 120000, 140000, 160000, 190000],  # Beijing Bites\n",
    "    [3, 200000, 230000, 260000, 300000],  # Pizza Hub\n",
    "    [4, 180000, 210000, 240000, 270000],  # Burger Point\n",
    "    [5, 160000, 185000, 205000, 230000]   # Chai Point\n",
    "])\n",
    "\n",
    "#minimum sales per restarant\n",
    "min_sales = np.min(sales_data[:, 1:], axis=1)# axis 1 for rows means left to right (least value in first row and so on)\n",
    "print(\"\\n Minimum sales per restaurant: \", min_sales)"
   ]
  },
  {
   "cell_type": "code",
   "execution_count": 15,
   "id": "5087417f",
   "metadata": {},
   "outputs": [
    {
     "name": "stdout",
     "output_type": "stream",
     "text": [
      "\n",
      " [200000 230000 260000 300000]\n"
     ]
    }
   ],
   "source": [
    "# Data structure: [restaurant_id, 2021, 2022, 2023, 2024]\n",
    "sales_data = np.array([\n",
    "    [1, 150000, 180000, 220000, 250000],  # Paradise Biryani\n",
    "    [2, 120000, 140000, 160000, 190000],  # Beijing Bites\n",
    "    [3, 200000, 230000, 260000, 300000],  # Pizza Hub\n",
    "    [4, 180000, 210000, 240000, 270000],  # Burger Point\n",
    "    [5, 160000, 185000, 205000, 230000]   # Chai Point\n",
    "])\n",
    "# Maximum Sales Per year\n",
    "max_sales = np.max(sales_data[:, 1:], axis=0) #top to bottom\n",
    "print(\"\\n\" , max_sales)\n"
   ]
  },
  {
   "cell_type": "code",
   "execution_count": null,
   "id": "4d320361",
   "metadata": {},
   "outputs": [
    {
     "name": "stdout",
     "output_type": "stream",
     "text": [
      "\n",
      " [200000. 152500. 247500. 225000. 195000.]\n"
     ]
    }
   ],
   "source": [
    "# Data structure: [restaurant_id, 2021, 2022, 2023, 2024]\n",
    "sales_data = np.array([\n",
    "    [1, 150000, 180000, 220000, 250000],  # Paradise Biryani\n",
    "    [2, 120000, 140000, 160000, 190000],  # Beijing Bites\n",
    "    [3, 200000, 230000, 260000, 300000],  # Pizza Hub\n",
    "    [4, 180000, 210000, 240000, 270000],  # Burger Point\n",
    "    [5, 160000, 185000, 205000, 230000]   # Chai Point\n",
    "])\n",
    "# Average Sales per restraunt\n",
    "avg_sales = np.mean(sales_data[: , 1:] , axis=1) #left to right\n",
    "print(\"\\n\" , avg_sales)"
   ]
  },
  {
   "cell_type": "code",
   "execution_count": 10,
   "id": "f0898d6a",
   "metadata": {},
   "outputs": [
    {
     "name": "stdout",
     "output_type": "stream",
     "text": [
      "\n",
      " [[150000 330000 550000 800000]\n",
      " [120000 260000 420000 610000]\n",
      " [200000 430000 690000 990000]\n",
      " [180000 390000 630000 900000]\n",
      " [160000 345000 550000 780000]]\n"
     ]
    },
    {
     "data": {
      "image/png": "[encoded data removed]",
      "text/plain": [
       "<Figure size 800x600 with 1 Axes>"
      ]
     },
     "metadata": {},
     "output_type": "display_data"
    }
   ],
   "source": [
    "\n",
    "# Cumulative Sum,  add 1 row in second then that ans add to the third element and so on \n",
    "sales_data = np.array([\n",
    "    [1, 150000, 180000, 220000, 250000],  # Paradise Biryani\n",
    "    [2, 120000, 140000, 160000, 190000],  # Beijing Bites\n",
    "    [3, 200000, 230000, 260000, 300000],  # Pizza Hub\n",
    "    [4, 180000, 210000, 240000, 270000],  # Burger Point\n",
    "    [5, 160000, 185000, 205000, 230000]   # Chai Point\n",
    "])\n",
    "\n",
    "import numpy as np\n",
    "import matplotlib.pyplot as plt\n",
    "cumsum = np.cumsum(sales_data[: , 1:] , axis=1) #left to right\n",
    "print(\"\\n\" ,cumsum)\n",
    "\n",
    "\n",
    "plt.figure(figsize=(8 , 6)) # tells the size of graph\n",
    "plt.plot(np.mean(cumsum, axis = 0))\n",
    "plt.title(\"Cumulative Sum\")\n",
    "plt.xlabel(\"Sales\")\n",
    "plt.ylabel(\"Years\")\n",
    "plt.grid(True)\n",
    "plt.show()"
   ]
  },
  {
   "cell_type": "code",
   "execution_count": null,
   "id": "fe396d4d",
   "metadata": {},
   "outputs": [
    {
     "name": "stdout",
     "output_type": "stream",
     "text": [
      "\n",
      "Vector Addition  [ 7  9 11 13 15]\n",
      "\n",
      "Vector Multiplication  [ 6 14 24 36 50]\n",
      "0.26554161733900966\n"
     ]
    }
   ],
   "source": [
    "vector1 = np.array([1 , 2 ,3 ,4 ,5])\n",
    "vector2 = np.array([6 , 7 , 8 , 9 ,10])\n",
    "print(\"\\nVector Addition \" , vector1 + vector2)\n",
    "\n",
    "print(\"\\nVector Multiplication \" , vector1 * vector2)\n",
    "\n",
    "print(\"\\n dot Product \" , np.dot(``))\n",
    "\n",
    "angle = np.arccos(np.dot(vector1 , vector2) / (np.linalg.norm(vector1) * np.linalg.norm(vector2)))\n",
    "print(angle)"
   ]
  },
  {
   "cell_type": "markdown",
   "id": "adb3939c",
   "metadata": {},
   "source": [
    "## Broadcasting in Numpy\n",
    "\n",
    "#t means the number automatically stretched it. It means it goes to every number in the array and perform operation in it"
   ]
  },
  {
   "cell_type": "code",
   "execution_count": 7,
   "id": "f4777d88",
   "metadata": {},
   "outputs": [
    {
     "name": "stdout",
     "output_type": "stream",
     "text": [
      "[[12500 15000 18333 20833]\n",
      " [10000 11666 13333 15833]\n",
      " [16666 19166 21666 25000]\n",
      " [15000 17500 20000 22500]\n",
      " [13333 15416 17083 19166]]\n"
     ]
    }
   ],
   "source": [
    "\n",
    "monthly_avg = sales_data[:  , 1:] // 12\n",
    "print(monthly_avg)"
   ]
  }
 ],
 "metadata": {
  "kernelspec": {
   "display_name": "base",
   "language": "python",
   "name": "python3"
  },
  "language_info": {
   "codemirror_mode": {
    "name": "ipython",
    "version": 3
   },
   "file_extension": ".py",
   "mimetype": "text/x-python",
   "name": "python",
   "nbconvert_exporter": "python",
   "pygments_lexer": "ipython3",
   "version": "3.13.5"
  }
 },
 "nbformat": 4,
 "nbformat_minor": 5
}
